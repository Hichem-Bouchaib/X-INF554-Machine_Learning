{
 "cells": [
  {
   "cell_type": "markdown",
   "metadata": {},
   "source": [
    "<center><h1/><br>Graph Classification<br></h1></center>\n",
    "\n",
    "\n",
    "\n",
    "The goal of this lab is to introduce machine learning techniques for graph classification. \n",
    "In order to perform graph classification, we will employ graph kernels, a powerful framework for graph comparison.\n",
    "Kernels can be intuitively understood as functions measuring the similarity of pairs of objects. More formally, for a function $k(x,x')$ to be a kernel, it has to be (1) symmetric: $k(x,x') = k(x',x)$, and (2) positive semi-definite. If a function satisfies the above two conditions on a set $\\mathcal{X}$, it is known that there exists a map $\\phi : \\mathcal{X} \\to \\mathcal{H}$ into a Hilbert space $\\mathcal{H}$, such that $k(x,x') = \\langle \\phi(x), \\phi(x') \\rangle$ for all $(x, x') \\in \\mathcal{X}^2$ where $\\langle\\cdot, \\cdot\\rangle$ is the inner product in $\\mathcal{H}$. Kernel functions thus compute the inner product between examples that are mapped in a higher-dimensional feature space. However, they do not necessarily explicitly compute the feature map $\\phi$ for each example. One advantage of kernel methods is that they can operate on very general types of data such as images and graphs. Kernels defined on graphs are known as *graph kernels*. Most graph kernels decompose graphs into their substructures and then to measure their similarity, they count the number of common substructures. Graph kernels typically focus on some structural aspect of graphs such as random walks, shortest paths, subtrees, cycles, and graphlets.\n",
    "\n",
    "We will first create a very simple graph classification dataset. We will use the [NexworkX](http://networkx.github.io/) library to create and manipulate graphs.\n",
    "The dataset will contain two types of graphs: (1) cycle graphs, and (2) path graphs. A cycle graph $C_n$ is a graph on $n$ nodes containing a single cycle through all nodes, while a path graph $P_n$ is a tree with two nodes of degree 1, and all the remaining $n-2$ nodes of degree 2. Each graph is assigned a class label: label 0 if it is a cycle or label 1 if it is a path. The Figure below illustrates such a dataset consisting of three cycle graphs and three path graphs.\n",
    "\n",
    "<img src=\"synthetic_graphs.png\" width=\"500\"/>\n",
    "    \n",
    "<u>Task</u>:\n",
    "- Use the [`cycle_graph()`](https://networkx.github.io/documentation/stable/reference/generated/networkx.generators.classic.cycle_graph.html#networkx.generators.classic.cycle_graph) and [`path_graph()`](https://networkx.github.io/documentation/stable/reference/generated/networkx.generators.classic.path_graph.html#networkx.generators.classic.path_graph) functions of NetworkX to generate 100 cycle graphs and 100 path graphs of size $n=3,\\ldots,102$, respectively. Store the 200 graphs in a list $Gs$ and their class labels in another list $y$."
   ]
  },
  {
   "cell_type": "code",
   "execution_count": null,
   "metadata": {},
   "outputs": [],
   "source": [
    "import networkx as nx\n",
    "import numpy as np\n",
    "\n",
    "Gs = list()\n",
    "y = list()\n",
    "\n",
    "for i in range(3,103):\n",
    "    # write your code here "
   ]
  },
  {
   "cell_type": "markdown",
   "metadata": {},
   "source": [
    "We will next investigate if graph kernels can distinguish cycle graphs from path graphs. To this end, we will make use of the shortest path kernel, a kernel that compares shortest path lengths in two graps. Before computing the kernel, it is necessary to split the dataset into a training and a test set. We can use the [`train_test_split()`](https://scikit-learn.org/stable/modules/generated/sklearn.model_selection.train_test_split.html) function of scikit-learn as follows:\n",
    "    \n",
    "    from sklearn.model_selection import train_test_split\n",
    "\n",
    "    G_train, G_test, y_train, y_test = train_test_split(Gs, y, test_size=0.1)\n",
    "    \n",
    "<u>Task</u>:\n",
    "- Split the dataset into a training and a test set."
   ]
  },
  {
   "cell_type": "code",
   "execution_count": null,
   "metadata": {},
   "outputs": [],
   "source": [
    "from sklearn.model_selection import train_test_split\n",
    "\n",
    "# write your code here"
   ]
  },
  {
   "cell_type": "markdown",
   "metadata": {},
   "source": [
    "The shortest path kernel compares the length of shortest paths of two graphs. More specifically, given two graphs $G=(V,E)$ and $G'=(V',E')$, the shortest path kernel is defined as:\n",
    "\n",
    "$$\n",
    "k(G,G') = \\sum_{(v_1,v_2) \\in V \\times V} \\sum_{(v'_1,v'_2) \\in V' \\times V'} k_{length}(sp_{v_1,v_2}, sp_{v'_1,v'_2})\n",
    "$$\n",
    "\n",
    "where $k_{length}$ is a kernel on shortest path lengths, and $sp_{v_i,v_j}$ is the length of the shortest path between vertices $v_i$ and $v_j$. We will use the following kernel for comparing shortest path lengths:\n",
    "\n",
    "$$\n",
    "k_{length}(sp_{v_1,v_2}, sp_{v'_1,v'_2}) = \\left\\{\n",
    "            \\begin{array}{lr}\n",
    "                1 & \\text{if }sp_{v_1,v_2} = sp_{v'_1,v'_2},\\\\\n",
    "                0 & \\text{otherwise}\n",
    "            \\end{array}\n",
    "            \\right.\n",
    "$$\n",
    "\n",
    "Therefore, $k_{length}(sp_{v_1,v_2}, sp_{v'_1,v'_2})$ is equal to 1 if $sp_{v_1,v_2}$ and $sp_{v'_1,v'_2}$ are equal to each other, and $0$ otherwise.\n",
    "\n",
    "Below you are given a function that takes as input two sets of graphs (of sizes $N_1$ and $N_2$), and computes the kernel matrix $K \\in \\mathbb{R}^{N_1\\times N_2}$ which stores the kernel values between the graphs of the first set and those of the second set."
   ]
  },
  {
   "cell_type": "code",
   "execution_count": null,
   "metadata": {},
   "outputs": [],
   "source": [
    "def sp_kernel(Gs1, Gs2):\n",
    "    N1 = len(Gs1)\n",
    "    N2 = len(Gs2)\n",
    "    \n",
    "    all_paths = dict()\n",
    "    sp_counts = dict()\n",
    "    \n",
    "    for i,G in enumerate(Gs1):\n",
    "        sp_lengths = dict(nx.shortest_path_length(G))\n",
    "        sp_counts[i] = dict()\n",
    "        nodes = G.nodes()\n",
    "        for v1 in nodes:\n",
    "            for v2 in nodes:\n",
    "                if v2 in sp_lengths[v1]:\n",
    "                    length = sp_lengths[v1][v2]\n",
    "                    if length in sp_counts[i]:\n",
    "                        sp_counts[i][length] += 1\n",
    "                    else:\n",
    "                        sp_counts[i][length] = 1\n",
    "\n",
    "                    if length not in all_paths:\n",
    "                        all_paths[length] = len(all_paths)\n",
    "                        \n",
    "    for i,G in enumerate(Gs2):\n",
    "        sp_lengths = dict(nx.shortest_path_length(G))\n",
    "        sp_counts[N1+i] = dict()\n",
    "        nodes = G.nodes()\n",
    "        for v1 in nodes:\n",
    "            for v2 in nodes:\n",
    "                if v2 in sp_lengths[v1]:\n",
    "                    length = sp_lengths[v1][v2]\n",
    "                    if length in sp_counts[N1+i]:\n",
    "                        sp_counts[N1+i][length] += 1\n",
    "                    else:\n",
    "                        sp_counts[N1+i][length] = 1\n",
    "\n",
    "                    if length not in all_paths:\n",
    "                        all_paths[length] = len(all_paths)\n",
    "\n",
    "    phi1 = np.zeros((N1, len(all_paths)))\n",
    "    for i in range(N1):\n",
    "        for length in sp_counts[i]:\n",
    "            phi1[i,all_paths[length]] = sp_counts[i][length]\n",
    "            \n",
    "    phi2 = np.zeros((N2, len(all_paths)))\n",
    "    for i in range(N2):\n",
    "        for length in sp_counts[N1+i]:\n",
    "            phi2[i,all_paths[length]] = sp_counts[N1+i][length]\n",
    "\n",
    "    K = np.dot(phi1,phi2.T)\n",
    "\n",
    "    return K"
   ]
  },
  {
   "cell_type": "markdown",
   "metadata": {},
   "source": [
    "We are interested in generating two matrices. A symmetric matrix $\\mathbf{K}_{train}$ which contains the kernel values for all pairs of training graphs, and a second matrix $\\mathbf{K}_{test}$ which stores the kernel values between the graphs of the test set and those of the training set. We can obtain these two matrices very easily using the function defined above. After generating the two kernel matrices, we can use the SVM classifier to perform graph classification.\n",
    "\n",
    "<u>Tasks</u>:\n",
    "- Use the shortest path kernel to compute the $\\mathbf{K}_{train}$ and $\\mathbf{K}_{test}$ matrices.\n",
    "- Train an [SVM classifier](https://scikit-learn.org/stable/modules/generated/sklearn.svm.SVC.html) and use it to make predictions. Note that we have already pre-computed the kernel matrices (set parameter kernel equal to 'precomputed').  "
   ]
  },
  {
   "cell_type": "code",
   "execution_count": null,
   "metadata": {},
   "outputs": [],
   "source": [
    "from sklearn.svm import SVC\n",
    "\n",
    "# write your code here"
   ]
  },
  {
   "cell_type": "markdown",
   "metadata": {},
   "source": [
    "Finally, we will evaluate the shortest path kernel. More specifically, we will compute its classification accuracy.\n",
    "\n",
    "<u>Tasks</u>:\n",
    "- Use the [`accuracy_score()`](https://scikit-learn.org/stable/modules/generated/sklearn.metrics.accuracy_score.html) function of scikit-learn to compute the classification accuracy of the shortest path kernel. "
   ]
  },
  {
   "cell_type": "code",
   "execution_count": null,
   "metadata": {},
   "outputs": [],
   "source": [
    "from sklearn.metrics import accuracy_score\n",
    "\n",
    "# your code here"
   ]
  }
 ],
 "metadata": {
  "kernelspec": {
   "display_name": "Python 3",
   "language": "python",
   "name": "python3"
  },
  "language_info": {
   "codemirror_mode": {
    "name": "ipython",
    "version": 3
   },
   "file_extension": ".py",
   "mimetype": "text/x-python",
   "name": "python",
   "nbconvert_exporter": "python",
   "pygments_lexer": "ipython3",
   "version": "3.6.9"
  }
 },
 "nbformat": 4,
 "nbformat_minor": 4
}
